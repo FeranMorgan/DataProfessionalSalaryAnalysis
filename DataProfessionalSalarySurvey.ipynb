{
 "cells": [
  {
   "cell_type": "code",
   "execution_count": 31,
   "metadata": {},
   "outputs": [],
   "source": [
    "import pandas as pd\n",
    "import matplotlib.pyplot as plt"
   ]
  },
  {
   "cell_type": "markdown",
   "metadata": {},
   "source": [
    "The purpose of this EDA is to explore the types of jobs and salaries of data professionals from the countries available. Of particular interest are people who work in the United States, but they will be compared with others from the next top 5 responding countries.\n",
    "\n",
    "To start, I load the csv into a dataframe and start looking for any glaring issues and relevant columns to the analysis."
   ]
  },
  {
   "cell_type": "code",
   "execution_count": 2,
   "metadata": {},
   "outputs": [
    {
     "data": {
      "text/html": [
       "<div>\n",
       "<style scoped>\n",
       "    .dataframe tbody tr th:only-of-type {\n",
       "        vertical-align: middle;\n",
       "    }\n",
       "\n",
       "    .dataframe tbody tr th {\n",
       "        vertical-align: top;\n",
       "    }\n",
       "\n",
       "    .dataframe thead th {\n",
       "        text-align: right;\n",
       "    }\n",
       "</style>\n",
       "<table border=\"1\" class=\"dataframe\">\n",
       "  <thead>\n",
       "    <tr style=\"text-align: right;\">\n",
       "      <th></th>\n",
       "      <th>survey_year</th>\n",
       "      <th>timestamp</th>\n",
       "      <th>salaryusd</th>\n",
       "      <th>country</th>\n",
       "      <th>postalcode</th>\n",
       "      <th>primarydatabase</th>\n",
       "      <th>yearswiththisdatabase</th>\n",
       "      <th>otherdatabases</th>\n",
       "      <th>employmentstatus</th>\n",
       "      <th>jobtitle</th>\n",
       "      <th>...</th>\n",
       "      <th>hoursworkedperweek</th>\n",
       "      <th>telecommutedaysperweek</th>\n",
       "      <th>populationoflargestcitywithin20miles</th>\n",
       "      <th>employmentsector</th>\n",
       "      <th>lookingforanotherjob</th>\n",
       "      <th>careerplansthisyear</th>\n",
       "      <th>gender</th>\n",
       "      <th>otherjobduties</th>\n",
       "      <th>kindsoftasksperformed</th>\n",
       "      <th>counter</th>\n",
       "    </tr>\n",
       "  </thead>\n",
       "  <tbody>\n",
       "    <tr>\n",
       "      <th>0</th>\n",
       "      <td>2017</td>\n",
       "      <td>2017-01-05T05:10:20.451</td>\n",
       "      <td>200000</td>\n",
       "      <td>United States</td>\n",
       "      <td>Not Asked</td>\n",
       "      <td>Microsoft SQL Server</td>\n",
       "      <td>10</td>\n",
       "      <td>MySQL/MariaDB</td>\n",
       "      <td>Full time employee</td>\n",
       "      <td>DBA</td>\n",
       "      <td>...</td>\n",
       "      <td>45</td>\n",
       "      <td>1</td>\n",
       "      <td>Not Asked</td>\n",
       "      <td>Private business</td>\n",
       "      <td>Yes, but only passively (just curious)</td>\n",
       "      <td>Not Asked</td>\n",
       "      <td>Not Asked</td>\n",
       "      <td>Not Asked</td>\n",
       "      <td>Not Asked</td>\n",
       "      <td>1</td>\n",
       "    </tr>\n",
       "    <tr>\n",
       "      <th>1</th>\n",
       "      <td>2017</td>\n",
       "      <td>2017-01-05T05:26:23.388</td>\n",
       "      <td>61515</td>\n",
       "      <td>United Kingdom</td>\n",
       "      <td>Not Asked</td>\n",
       "      <td>Microsoft SQL Server</td>\n",
       "      <td>15</td>\n",
       "      <td>Oracle, PostgreSQL</td>\n",
       "      <td>Full time employee</td>\n",
       "      <td>DBA</td>\n",
       "      <td>...</td>\n",
       "      <td>35</td>\n",
       "      <td>2</td>\n",
       "      <td>Not Asked</td>\n",
       "      <td>Private business</td>\n",
       "      <td>No</td>\n",
       "      <td>Not Asked</td>\n",
       "      <td>Not Asked</td>\n",
       "      <td>Not Asked</td>\n",
       "      <td>Not Asked</td>\n",
       "      <td>1</td>\n",
       "    </tr>\n",
       "    <tr>\n",
       "      <th>2</th>\n",
       "      <td>2017</td>\n",
       "      <td>2017-01-05T05:32:57.367</td>\n",
       "      <td>95000</td>\n",
       "      <td>Germany</td>\n",
       "      <td>Not Asked</td>\n",
       "      <td>Microsoft SQL Server</td>\n",
       "      <td>5</td>\n",
       "      <td>Oracle, MySQL/MariaDB, Informix</td>\n",
       "      <td>Full time employee</td>\n",
       "      <td>Other</td>\n",
       "      <td>...</td>\n",
       "      <td>45</td>\n",
       "      <td>None, or less than 1 day per week</td>\n",
       "      <td>Not Asked</td>\n",
       "      <td>Private business</td>\n",
       "      <td>Yes, but only passively (just curious)</td>\n",
       "      <td>Not Asked</td>\n",
       "      <td>Not Asked</td>\n",
       "      <td>Not Asked</td>\n",
       "      <td>Not Asked</td>\n",
       "      <td>1</td>\n",
       "    </tr>\n",
       "    <tr>\n",
       "      <th>3</th>\n",
       "      <td>2017</td>\n",
       "      <td>2017-01-05T05:33:03.316</td>\n",
       "      <td>56000</td>\n",
       "      <td>United Kingdom</td>\n",
       "      <td>Not Asked</td>\n",
       "      <td>Microsoft SQL Server</td>\n",
       "      <td>6</td>\n",
       "      <td>NaN</td>\n",
       "      <td>Full time employee</td>\n",
       "      <td>DBA</td>\n",
       "      <td>...</td>\n",
       "      <td>40</td>\n",
       "      <td>1</td>\n",
       "      <td>Not Asked</td>\n",
       "      <td>Private business</td>\n",
       "      <td>Yes, but only passively (just curious)</td>\n",
       "      <td>Not Asked</td>\n",
       "      <td>Not Asked</td>\n",
       "      <td>Not Asked</td>\n",
       "      <td>Not Asked</td>\n",
       "      <td>1</td>\n",
       "    </tr>\n",
       "    <tr>\n",
       "      <th>4</th>\n",
       "      <td>2017</td>\n",
       "      <td>2017-01-05T05:34:33.866</td>\n",
       "      <td>35000</td>\n",
       "      <td>France</td>\n",
       "      <td>Not Asked</td>\n",
       "      <td>Microsoft SQL Server</td>\n",
       "      <td>10</td>\n",
       "      <td>Oracle</td>\n",
       "      <td>Full time employee of a consulting/contracting...</td>\n",
       "      <td>DBA</td>\n",
       "      <td>...</td>\n",
       "      <td>40</td>\n",
       "      <td>None, or less than 1 day per week</td>\n",
       "      <td>Not Asked</td>\n",
       "      <td>Private business</td>\n",
       "      <td>Yes, but only passively (just curious)</td>\n",
       "      <td>Not Asked</td>\n",
       "      <td>Not Asked</td>\n",
       "      <td>Not Asked</td>\n",
       "      <td>Not Asked</td>\n",
       "      <td>1</td>\n",
       "    </tr>\n",
       "  </tbody>\n",
       "</table>\n",
       "<p>5 rows × 29 columns</p>\n",
       "</div>"
      ],
      "text/plain": [
       "   survey_year                timestamp salaryusd         country postalcode  \\\n",
       "0         2017  2017-01-05T05:10:20.451    200000   United States  Not Asked   \n",
       "1         2017  2017-01-05T05:26:23.388     61515  United Kingdom  Not Asked   \n",
       "2         2017  2017-01-05T05:32:57.367     95000         Germany  Not Asked   \n",
       "3         2017  2017-01-05T05:33:03.316     56000  United Kingdom  Not Asked   \n",
       "4         2017  2017-01-05T05:34:33.866     35000          France  Not Asked   \n",
       "\n",
       "        primarydatabase  yearswiththisdatabase  \\\n",
       "0  Microsoft SQL Server                     10   \n",
       "1  Microsoft SQL Server                     15   \n",
       "2  Microsoft SQL Server                      5   \n",
       "3  Microsoft SQL Server                      6   \n",
       "4  Microsoft SQL Server                     10   \n",
       "\n",
       "                    otherdatabases  \\\n",
       "0                    MySQL/MariaDB   \n",
       "1               Oracle, PostgreSQL   \n",
       "2  Oracle, MySQL/MariaDB, Informix   \n",
       "3                              NaN   \n",
       "4                           Oracle   \n",
       "\n",
       "                                    employmentstatus jobtitle  ...  \\\n",
       "0                                 Full time employee      DBA  ...   \n",
       "1                                 Full time employee      DBA  ...   \n",
       "2                                 Full time employee    Other  ...   \n",
       "3                                 Full time employee      DBA  ...   \n",
       "4  Full time employee of a consulting/contracting...      DBA  ...   \n",
       "\n",
       "  hoursworkedperweek             telecommutedaysperweek  \\\n",
       "0                 45                                  1   \n",
       "1                 35                                  2   \n",
       "2                 45  None, or less than 1 day per week   \n",
       "3                 40                                  1   \n",
       "4                 40  None, or less than 1 day per week   \n",
       "\n",
       "  populationoflargestcitywithin20miles  employmentsector  \\\n",
       "0                            Not Asked  Private business   \n",
       "1                            Not Asked  Private business   \n",
       "2                            Not Asked  Private business   \n",
       "3                            Not Asked  Private business   \n",
       "4                            Not Asked  Private business   \n",
       "\n",
       "                     lookingforanotherjob  careerplansthisyear     gender  \\\n",
       "0  Yes, but only passively (just curious)            Not Asked  Not Asked   \n",
       "1                                      No            Not Asked  Not Asked   \n",
       "2  Yes, but only passively (just curious)            Not Asked  Not Asked   \n",
       "3  Yes, but only passively (just curious)            Not Asked  Not Asked   \n",
       "4  Yes, but only passively (just curious)            Not Asked  Not Asked   \n",
       "\n",
       "  otherjobduties kindsoftasksperformed  counter  \n",
       "0      Not Asked             Not Asked        1  \n",
       "1      Not Asked             Not Asked        1  \n",
       "2      Not Asked             Not Asked        1  \n",
       "3      Not Asked             Not Asked        1  \n",
       "4      Not Asked             Not Asked        1  \n",
       "\n",
       "[5 rows x 29 columns]"
      ]
     },
     "execution_count": 2,
     "metadata": {},
     "output_type": "execute_result"
    }
   ],
   "source": [
    "rawData = pd.read_csv('C:\\salary_survey.csv')\n",
    "\n",
    "rawData.head()"
   ]
  },
  {
   "cell_type": "code",
   "execution_count": 3,
   "metadata": {},
   "outputs": [
    {
     "name": "stdout",
     "output_type": "stream",
     "text": [
      "<class 'pandas.core.frame.DataFrame'>\n",
      "RangeIndex: 6893 entries, 0 to 6892\n",
      "Data columns (total 29 columns):\n",
      " #   Column                                Non-Null Count  Dtype \n",
      "---  ------                                --------------  ----- \n",
      " 0   survey_year                           6893 non-null   int64 \n",
      " 1   timestamp                             6893 non-null   object\n",
      " 2   salaryusd                             6893 non-null   object\n",
      " 3   country                               6893 non-null   object\n",
      " 4   postalcode                            5934 non-null   object\n",
      " 5   primarydatabase                       6893 non-null   object\n",
      " 6   yearswiththisdatabase                 6893 non-null   int64 \n",
      " 7   otherdatabases                        5520 non-null   object\n",
      " 8   employmentstatus                      6893 non-null   object\n",
      " 9   jobtitle                              6893 non-null   object\n",
      " 10  managestaff                           6893 non-null   object\n",
      " 11  yearswiththistypeofjob                6893 non-null   int64 \n",
      " 12  howmanycompanies                      6893 non-null   object\n",
      " 13  otherpeopleonyourteam                 6893 non-null   object\n",
      " 14  companyemployeesoverall               6893 non-null   object\n",
      " 15  databaseservers                       6893 non-null   int64 \n",
      " 16  education                             6893 non-null   object\n",
      " 17  educationiscomputerrelated            5677 non-null   object\n",
      " 18  certifications                        6893 non-null   object\n",
      " 19  hoursworkedperweek                    6893 non-null   int64 \n",
      " 20  telecommutedaysperweek                6893 non-null   object\n",
      " 21  populationoflargestcitywithin20miles  6893 non-null   object\n",
      " 22  employmentsector                      6893 non-null   object\n",
      " 23  lookingforanotherjob                  6893 non-null   object\n",
      " 24  careerplansthisyear                   6893 non-null   object\n",
      " 25  gender                                6893 non-null   object\n",
      " 26  otherjobduties                        6273 non-null   object\n",
      " 27  kindsoftasksperformed                 6686 non-null   object\n",
      " 28  counter                               6893 non-null   int64 \n",
      "dtypes: int64(6), object(23)\n",
      "memory usage: 1.5+ MB\n"
     ]
    }
   ],
   "source": [
    "rawData.info()"
   ]
  },
  {
   "cell_type": "code",
   "execution_count": 4,
   "metadata": {},
   "outputs": [
    {
     "data": {
      "text/plain": [
       "0"
      ]
     },
     "execution_count": 4,
     "metadata": {},
     "output_type": "execute_result"
    }
   ],
   "source": [
    "rawData[rawData.duplicated()].size"
   ]
  },
  {
   "cell_type": "code",
   "execution_count": 5,
   "metadata": {},
   "outputs": [
    {
     "data": {
      "text/plain": [
       "survey_year                                3\n",
       "timestamp                               6891\n",
       "salaryusd                               1242\n",
       "country                                   85\n",
       "postalcode                              2304\n",
       "primarydatabase                           15\n",
       "yearswiththisdatabase                     42\n",
       "otherdatabases                          1339\n",
       "employmentstatus                           5\n",
       "jobtitle                                  23\n",
       "managestaff                                2\n",
       "yearswiththistypeofjob                    41\n",
       "howmanycompanies                           7\n",
       "otherpeopleonyourteam                      7\n",
       "companyemployeesoverall                    7\n",
       "databaseservers                          250\n",
       "education                                  5\n",
       "educationiscomputerrelated                 2\n",
       "certifications                             3\n",
       "hoursworkedperweek                        57\n",
       "telecommutedaysperweek                     6\n",
       "populationoflargestcitywithin20miles       6\n",
       "employmentsector                           7\n",
       "lookingforanotherjob                       3\n",
       "careerplansthisyear                        6\n",
       "gender                                    24\n",
       "otherjobduties                           555\n",
       "kindsoftasksperformed                    211\n",
       "counter                                    1\n",
       "dtype: int64"
      ]
     },
     "execution_count": 5,
     "metadata": {},
     "output_type": "execute_result"
    }
   ],
   "source": [
    "rawData.nunique()"
   ]
  },
  {
   "cell_type": "markdown",
   "metadata": {},
   "source": [
    "Since there are no apparent duplicates, it's time to cut down the size of the data and select the relevant features. Special attention needs to be payed to the timestamps because it's possible that the same person was record twice in a different year, potentially with a new position, salary, and education completed. Other things of interest are obviously salary,job titles and years of experience, but education and the country where this person works could influence the data significantly, so let's explore those as well."
   ]
  },
  {
   "cell_type": "code",
   "execution_count": 6,
   "metadata": {},
   "outputs": [],
   "source": [
    "featCols = rawData[['timestamp', 'salaryusd', 'country', 'jobtitle', 'yearswiththistypeofjob', 'education']].copy()"
   ]
  },
  {
   "cell_type": "code",
   "execution_count": 7,
   "metadata": {},
   "outputs": [
    {
     "data": {
      "text/html": [
       "<div>\n",
       "<style scoped>\n",
       "    .dataframe tbody tr th:only-of-type {\n",
       "        vertical-align: middle;\n",
       "    }\n",
       "\n",
       "    .dataframe tbody tr th {\n",
       "        vertical-align: top;\n",
       "    }\n",
       "\n",
       "    .dataframe thead th {\n",
       "        text-align: right;\n",
       "    }\n",
       "</style>\n",
       "<table border=\"1\" class=\"dataframe\">\n",
       "  <thead>\n",
       "    <tr style=\"text-align: right;\">\n",
       "      <th></th>\n",
       "      <th>timestamp</th>\n",
       "      <th>salaryusd</th>\n",
       "      <th>country</th>\n",
       "      <th>jobtitle</th>\n",
       "      <th>yearswiththistypeofjob</th>\n",
       "      <th>education</th>\n",
       "    </tr>\n",
       "  </thead>\n",
       "  <tbody>\n",
       "    <tr>\n",
       "      <th>14</th>\n",
       "      <td>2017-01-05T07:35:03.887</td>\n",
       "      <td>85000</td>\n",
       "      <td>United States</td>\n",
       "      <td>DBA</td>\n",
       "      <td>2</td>\n",
       "      <td>Bachelors (4 years)</td>\n",
       "    </tr>\n",
       "    <tr>\n",
       "      <th>22</th>\n",
       "      <td>2017-01-05T07:42:05.999</td>\n",
       "      <td>123000</td>\n",
       "      <td>United States</td>\n",
       "      <td>DBA</td>\n",
       "      <td>7</td>\n",
       "      <td>Bachelors (4 years)</td>\n",
       "    </tr>\n",
       "    <tr>\n",
       "      <th>23</th>\n",
       "      <td>2017-01-05T07:42:36.502</td>\n",
       "      <td>100800</td>\n",
       "      <td>United States</td>\n",
       "      <td>Architect</td>\n",
       "      <td>6</td>\n",
       "      <td>Bachelors (4 years)</td>\n",
       "    </tr>\n",
       "    <tr>\n",
       "      <th>27</th>\n",
       "      <td>2017-01-05T07:44:09.575</td>\n",
       "      <td>80000</td>\n",
       "      <td>United States</td>\n",
       "      <td>DBA</td>\n",
       "      <td>3</td>\n",
       "      <td>Bachelors (4 years)</td>\n",
       "    </tr>\n",
       "    <tr>\n",
       "      <th>29</th>\n",
       "      <td>2017-01-05T07:45:35.063</td>\n",
       "      <td>102000</td>\n",
       "      <td>United States</td>\n",
       "      <td>DBA</td>\n",
       "      <td>4</td>\n",
       "      <td>Bachelors (4 years)</td>\n",
       "    </tr>\n",
       "    <tr>\n",
       "      <th>...</th>\n",
       "      <td>...</td>\n",
       "      <td>...</td>\n",
       "      <td>...</td>\n",
       "      <td>...</td>\n",
       "      <td>...</td>\n",
       "      <td>...</td>\n",
       "    </tr>\n",
       "    <tr>\n",
       "      <th>6882</th>\n",
       "      <td>2019-01-03T05:38:49.032</td>\n",
       "      <td>123000</td>\n",
       "      <td>United States</td>\n",
       "      <td>DBA (General - splits time evenly between writ...</td>\n",
       "      <td>6</td>\n",
       "      <td>Bachelors (4 years)</td>\n",
       "    </tr>\n",
       "    <tr>\n",
       "      <th>6883</th>\n",
       "      <td>2019-01-03T08:03:37.416</td>\n",
       "      <td>101500</td>\n",
       "      <td>United States</td>\n",
       "      <td>DBA (Production Focus - build &amp; troubleshoot s...</td>\n",
       "      <td>9</td>\n",
       "      <td>Bachelors (4 years)</td>\n",
       "    </tr>\n",
       "    <tr>\n",
       "      <th>6884</th>\n",
       "      <td>2019-01-03T09:53:49.374</td>\n",
       "      <td>107000</td>\n",
       "      <td>United States</td>\n",
       "      <td>DBA (Production Focus - build &amp; troubleshoot s...</td>\n",
       "      <td>8</td>\n",
       "      <td>Bachelors (4 years)</td>\n",
       "    </tr>\n",
       "    <tr>\n",
       "      <th>6886</th>\n",
       "      <td>2019-01-03T11:32:51.601</td>\n",
       "      <td>132000</td>\n",
       "      <td>United States</td>\n",
       "      <td>DBA (Development Focus - tunes queries, indexe...</td>\n",
       "      <td>20</td>\n",
       "      <td>Bachelors (4 years)</td>\n",
       "    </tr>\n",
       "    <tr>\n",
       "      <th>6891</th>\n",
       "      <td>2019-01-04T10:06:24.611</td>\n",
       "      <td>130000</td>\n",
       "      <td>United States</td>\n",
       "      <td>DBA (General - splits time evenly between writ...</td>\n",
       "      <td>17</td>\n",
       "      <td>Bachelors (4 years)</td>\n",
       "    </tr>\n",
       "  </tbody>\n",
       "</table>\n",
       "<p>2548 rows × 6 columns</p>\n",
       "</div>"
      ],
      "text/plain": [
       "                    timestamp salaryusd        country  \\\n",
       "14    2017-01-05T07:35:03.887     85000  United States   \n",
       "22    2017-01-05T07:42:05.999    123000  United States   \n",
       "23    2017-01-05T07:42:36.502    100800  United States   \n",
       "27    2017-01-05T07:44:09.575     80000  United States   \n",
       "29    2017-01-05T07:45:35.063    102000  United States   \n",
       "...                       ...       ...            ...   \n",
       "6882  2019-01-03T05:38:49.032    123000  United States   \n",
       "6883  2019-01-03T08:03:37.416    101500  United States   \n",
       "6884  2019-01-03T09:53:49.374    107000  United States   \n",
       "6886  2019-01-03T11:32:51.601    132000  United States   \n",
       "6891  2019-01-04T10:06:24.611    130000  United States   \n",
       "\n",
       "                                               jobtitle  \\\n",
       "14                                                  DBA   \n",
       "22                                                  DBA   \n",
       "23                                            Architect   \n",
       "27                                                  DBA   \n",
       "29                                                  DBA   \n",
       "...                                                 ...   \n",
       "6882  DBA (General - splits time evenly between writ...   \n",
       "6883  DBA (Production Focus - build & troubleshoot s...   \n",
       "6884  DBA (Production Focus - build & troubleshoot s...   \n",
       "6886  DBA (Development Focus - tunes queries, indexe...   \n",
       "6891  DBA (General - splits time evenly between writ...   \n",
       "\n",
       "      yearswiththistypeofjob            education  \n",
       "14                         2  Bachelors (4 years)  \n",
       "22                         7  Bachelors (4 years)  \n",
       "23                         6  Bachelors (4 years)  \n",
       "27                         3  Bachelors (4 years)  \n",
       "29                         4  Bachelors (4 years)  \n",
       "...                      ...                  ...  \n",
       "6882                       6  Bachelors (4 years)  \n",
       "6883                       9  Bachelors (4 years)  \n",
       "6884                       8  Bachelors (4 years)  \n",
       "6886                      20  Bachelors (4 years)  \n",
       "6891                      17  Bachelors (4 years)  \n",
       "\n",
       "[2548 rows x 6 columns]"
      ]
     },
     "execution_count": 7,
     "metadata": {},
     "output_type": "execute_result"
    }
   ],
   "source": [
    "featCols.loc[featCols['country'] == 'United States'].loc[featCols['education'] == 'Bachelors (4 years)']"
   ]
  },
  {
   "cell_type": "code",
   "execution_count": 8,
   "metadata": {},
   "outputs": [
    {
     "name": "stdout",
     "output_type": "stream",
     "text": [
      "['Masters' 'None (no degree completed)' 'Associates (2 years)'\n",
      " 'Bachelors (4 years)' 'Doctorate/PhD']\n"
     ]
    }
   ],
   "source": [
    "print(featCols['education'].unique())"
   ]
  },
  {
   "cell_type": "code",
   "execution_count": 9,
   "metadata": {},
   "outputs": [
    {
     "name": "stdout",
     "output_type": "stream",
     "text": [
      "['DBA' 'Other' 'Developer: App code (C#, JS, etc)' 'Engineer'\n",
      " 'Developer: T-SQL'\n",
      " 'Developer: Business Intelligence (SSRS, PowerBI, etc)' 'Architect'\n",
      " 'Analyst' 'Manager' 'Data Scientist' 'Principal database engineer'\n",
      " 'DevOps, Sr Software Engineer DBA' 'Technician ' 'Database Specialist'\n",
      " 'Consultant' 'Systems Administrator' 'Sales' 'DBA / BI Developer'\n",
      " 'Sr Consultant ' 'Analytics consultant'\n",
      " 'DBA (General - splits time evenly between writing & tuning queries AND building & troubleshooting servers)'\n",
      " 'DBA (Development Focus - tunes queries, indexes, does deployments)'\n",
      " 'DBA (Production Focus - build & troubleshoot servers, HA/DR)']\n"
     ]
    }
   ],
   "source": [
    "print(featCols['jobtitle'].unique())"
   ]
  },
  {
   "cell_type": "markdown",
   "metadata": {},
   "source": [
    "The standard levels of education each appear as expected without oddly worded duplicates and there appear to be quite a few special varieties of data base analysts among the data professionals here. Since we're primarily interested in data scientists, analysts, and DBA's the generic 'DBA' is chosen as a representative there and now it's time to check and clean the numerical data in the salary column since it was listed early as an object column instead of int or float."
   ]
  },
  {
   "cell_type": "code",
   "execution_count": 10,
   "metadata": {},
   "outputs": [
    {
     "data": {
      "text/html": [
       "<div>\n",
       "<style scoped>\n",
       "    .dataframe tbody tr th:only-of-type {\n",
       "        vertical-align: middle;\n",
       "    }\n",
       "\n",
       "    .dataframe tbody tr th {\n",
       "        vertical-align: top;\n",
       "    }\n",
       "\n",
       "    .dataframe thead th {\n",
       "        text-align: right;\n",
       "    }\n",
       "</style>\n",
       "<table border=\"1\" class=\"dataframe\">\n",
       "  <thead>\n",
       "    <tr style=\"text-align: right;\">\n",
       "      <th></th>\n",
       "      <th>timestamp</th>\n",
       "      <th>salaryusd</th>\n",
       "      <th>country</th>\n",
       "      <th>jobtitle</th>\n",
       "      <th>yearswiththistypeofjob</th>\n",
       "      <th>education</th>\n",
       "    </tr>\n",
       "  </thead>\n",
       "  <tbody>\n",
       "    <tr>\n",
       "      <th>5968</th>\n",
       "      <td>2018-01-04T06:37:34.259</td>\n",
       "      <td>50 621</td>\n",
       "      <td>Germany</td>\n",
       "      <td>DBA (General - splits time evenly between writ...</td>\n",
       "      <td>2</td>\n",
       "      <td>Associates (2 years)</td>\n",
       "    </tr>\n",
       "    <tr>\n",
       "      <th>6123</th>\n",
       "      <td>2018-12-11T09:36:42.769</td>\n",
       "      <td>110, 000</td>\n",
       "      <td>United States</td>\n",
       "      <td>DBA (Production Focus - build &amp; troubleshoot s...</td>\n",
       "      <td>1</td>\n",
       "      <td>Bachelors (4 years)</td>\n",
       "    </tr>\n",
       "    <tr>\n",
       "      <th>6419</th>\n",
       "      <td>2018-12-14T04:22:37.449</td>\n",
       "      <td>66 000</td>\n",
       "      <td>Sweden</td>\n",
       "      <td>DBA (Production Focus - build &amp; troubleshoot s...</td>\n",
       "      <td>2</td>\n",
       "      <td>Associates (2 years)</td>\n",
       "    </tr>\n",
       "  </tbody>\n",
       "</table>\n",
       "</div>"
      ],
      "text/plain": [
       "                    timestamp salaryusd        country  \\\n",
       "5968  2018-01-04T06:37:34.259    50 621        Germany   \n",
       "6123  2018-12-11T09:36:42.769  110, 000  United States   \n",
       "6419  2018-12-14T04:22:37.449    66 000         Sweden   \n",
       "\n",
       "                                               jobtitle  \\\n",
       "5968  DBA (General - splits time evenly between writ...   \n",
       "6123  DBA (Production Focus - build & troubleshoot s...   \n",
       "6419  DBA (Production Focus - build & troubleshoot s...   \n",
       "\n",
       "      yearswiththistypeofjob             education  \n",
       "5968                       2  Associates (2 years)  \n",
       "6123                       1   Bachelors (4 years)  \n",
       "6419                       2  Associates (2 years)  "
      ]
     },
     "execution_count": 10,
     "metadata": {},
     "output_type": "execute_result"
    }
   ],
   "source": [
    "featCols[pd.to_numeric(featCols.salaryusd, errors = 'coerce').isnull()]"
   ]
  },
  {
   "cell_type": "code",
   "execution_count": 11,
   "metadata": {},
   "outputs": [],
   "source": [
    "featCols.at[5968,'salaryusd'] = 50621\n",
    "featCols.at[6123,'salaryusd'] = 110000\n",
    "featCols.at[6419,'salaryusd'] = 66000"
   ]
  },
  {
   "cell_type": "markdown",
   "metadata": {},
   "source": [
    "That takes care of the formatting issues for the most part, but it's possible that someone entered a decimal point instead of a comma when marking the thousands place in their salary. This will generate some unrealistically low salaries in the data, for example \"100.000\" instead of \"100,000.00\". These anomalies need to be isolated and possibly discarded if corrections seem dubious after the final conversion for the salary column."
   ]
  },
  {
   "cell_type": "code",
   "execution_count": 12,
   "metadata": {},
   "outputs": [],
   "source": [
    "featCols['salaryusd'] = pd.to_numeric(featCols.salaryusd)\n",
    "lowFloats = [x for x in featCols['salaryusd'] if x < 30000]"
   ]
  },
  {
   "cell_type": "code",
   "execution_count": 13,
   "metadata": {},
   "outputs": [
    {
     "data": {
      "text/plain": [
       "333"
      ]
     },
     "execution_count": 13,
     "metadata": {},
     "output_type": "execute_result"
    }
   ],
   "source": [
    "len(lowFloats)"
   ]
  },
  {
   "cell_type": "code",
   "execution_count": 14,
   "metadata": {},
   "outputs": [
    {
     "name": "stdout",
     "output_type": "stream",
     "text": [
      "[29511.0, 23000.0, 17621.0, 26500.0, 23000.0, 10000.0, 15000.0, 12000.0, 16666.0, 27000.0, 21000.0, 7968.0, 15000.0, 17647.0, 26000.0, 25500.0, 14000.0, 12000.0, 12300.0, 12900.0, 10000.0, 8300.0, 29000.0, 20000.0, 20000.0, 12000.0, 16000.0, 20000.0, 25000.0, 3900.0, 6700.0, 23500.0, 8400.0, 29148.0, 27000.0, 17500.0, 26300.0, 23000.0, 13500.0, 13000.0, 20000.0, 25000.0, 12000.0, 22000.0, 4423.0, 11300.0, 4420.0, 5500.0, 14000.0, 11000.0, 29200.0, 18000.0, 1600.0, 1250.0, 29000.0, 7515.0, 6200.0, 25500.0, 11119.0, 22941.0, 25000.0, 12600.0, 11000.0, 28739.0, 24000.0, 22000.0, 19000.0, 27000.0, 7650.0, 20484.0, 21350.0, 10000.0, 12000.0, 20000.0, 27280.0, 27000.0, 4118.0, 545.0, 14000.0, 15500.0, 8200.0, 27000.0, 8000.0, 20000.0, 27260.0, 17647.0, 21600.0, 20000.0, 24000.0, 15000.0, 28500.0, 24000.0, 18000.0, 29000.0, 25000.0, 11000.0, 25000.0, 13455.0, 18200.0, 20000.0, 13000.0, 24000.0, 26000.0, 27049.0, 8500.0, 11500.0, 5000.0, 20000.0, 7473.0, 430.0, 15500.0, 24000.0, 25000.0, 28000.0, 14500.0, 19000.0, 10000.0, 20000.0, 26400.0, 28000.0, 3000.0, 17250.0, 27880.0, 19085.0, 20000.0, 18500.0, 22000.0, 15000.0, 29500.0, 29000.0, 9100.0, 18000.0, 26000.0, 20000.0, 9000.0, 26500.0, 25000.0, 19800.0, 11029.0, 1467.0, 1050.0, 12600.0, 25000.0, 11014.0, 21000.0, 18000.0, 21600.0, 2000.0, 20500.0, 23160.0, 29000.0, 26000.0, 24265.0, 3000.0, 10256.0, 1200.0, 10900.0, 21244.0, 10073.0, 8000.0, 20000.0, 23300.0, 25000.0, 11745.0, 25000.0, 15000.0, 20290.0, 28800.0, 21000.0, 23000.0, 18000.0, 15000.0, 44.806000000000004, 10000.0, 24000.0, 24000.0, 3600.0, 21000.0, 25000.0, 22000.0, 24000.0, 1100.0, 300.0, 92.27, 18352.0, 14000.0, 577.0, 22000.0, 10500.0, 12000.0, 5214.0, 12416.0, 12500.0, 2000.0, 17667.0, 29260.0, 126.0, 38.736, 12400.0, 22500.0, 16700.0, 19000.0, 18900.0, 20000.0, 700.0, 12000.0, 8000.0, 2246.0, 130.0, 20600.0, 20000.0, 17000.0, 18000.0, 16000.0, 24375.0, 6516.5, 18000.0, 28308.0, 29000.0, 15000.0, 27000.0, 20500.0, 81.0, 15000.0, 13000.0, 21500.0, 16380.0, 3580.0, 27600.0, 22735.0, 23500.0, 12000.0, 2200.0, 9900.0, 56.0, 26000.0, 22000.0, 17000.0, 7500.0, 1967.0, 19600.0, 27000.0, 25000.0, 24800.0, 27000.0, 10650.0, 15600.0, 23000.0, 24145.2, 4200.0, 28000.0, 4000.0, 1600.0, 23000.0, 22000.0, 8000.0, 22000.0, 24000.0, 26500.0, 28600.0, 12500.0, 10962.0, 16000.0, 16000.0, 58.0, 17500.0, 28600.0, 29000.0, 900.0, 12000.0, 7500.0, 8230.0, 22350.0, 5800.0, 25000.0, 87.83, 24000.0, 13500.0, 24000.0, 18181.0, 22140.0, 112.0, 28800.0, 20000.0, 16000.0, 15600.0, 624.8, 12000.0, 17333.0, 7800.0, 20000.0, 0.0, 13000.0, 5000.0, 17500.0, 20000.0, 9360.0, 10095.0, 10000.0, 6260.0, 14139.0, 24400.0, 25500.0, 18000.0, 28000.0, 20476.0, 22244.0, 20750.0, 0.0, 26400.0, 25000.0, 22000.0, 11800.0, 28495.0, 21000.0, 9100.0, 20000.0, 27000.0, 3500.0, 2900.0, 2900.0, 2400.0, 3300.0, 11100.0, 16000.0, 12000.0, 11800.0, 16500.0, 27000.0, 29200.0, 15000.0, 18000.0, 17913.0]\n"
     ]
    }
   ],
   "source": [
    "print(lowFloats)"
   ]
  },
  {
   "cell_type": "markdown",
   "metadata": {},
   "source": [
    "As expected, there are some pretty strange numbers here. If/why someone accurately calculated their salary to $44.806000000000004, we will never know. Additionally, there appear to be quite a few 0s in the data. These are possibly volunteers or unpaid interns of some kind, or possibly those who declined to give their salary information, all of which are not useful for our purpose and can be safely discarded."
   ]
  },
  {
   "cell_type": "code",
   "execution_count": 15,
   "metadata": {},
   "outputs": [],
   "source": [
    "featCols.drop(featCols[featCols.salaryusd < 30000].index, inplace = True)"
   ]
  },
  {
   "cell_type": "code",
   "execution_count": 16,
   "metadata": {},
   "outputs": [
    {
     "data": {
      "text/plain": [
       "count               6,560.00\n",
       "mean               96,687.68\n",
       "std                56,492.07\n",
       "min                30,000.00\n",
       "25%                68,000.00\n",
       "50%                92,000.00\n",
       "75%               115,000.00\n",
       "max             1,450,000.00\n",
       "Name: salaryusd, dtype: float64"
      ]
     },
     "execution_count": 16,
     "metadata": {},
     "output_type": "execute_result"
    }
   ],
   "source": [
    "pd.options.display.float_format = '{:20,.2f}'.format\n",
    "featCols.salaryusd.describe()"
   ]
  },
  {
   "cell_type": "code",
   "execution_count": 17,
   "metadata": {},
   "outputs": [],
   "source": [
    "featCols.drop(featCols[featCols.salaryusd > 210000].index, inplace = True)"
   ]
  },
  {
   "cell_type": "markdown",
   "metadata": {},
   "source": [
    "Since two standard deviations above the mean is pretty unlikely and unhelpful for analyzing the average data scientist. Those above $210,000 are dropped as outliers."
   ]
  },
  {
   "cell_type": "code",
   "execution_count": 18,
   "metadata": {},
   "outputs": [
    {
     "data": {
      "text/plain": [
       "{'whiskers': [<matplotlib.lines.Line2D at 0x175dea53ac0>,\n",
       "  <matplotlib.lines.Line2D at 0x175dea53e20>],\n",
       " 'caps': [<matplotlib.lines.Line2D at 0x175dea691c0>,\n",
       "  <matplotlib.lines.Line2D at 0x175dea69520>],\n",
       " 'boxes': [<matplotlib.lines.Line2D at 0x175dea53760>],\n",
       " 'medians': [<matplotlib.lines.Line2D at 0x175dea69880>],\n",
       " 'fliers': [],\n",
       " 'means': []}"
      ]
     },
     "execution_count": 18,
     "metadata": {},
     "output_type": "execute_result"
    },
    {
     "data": {
      "image/png": "[encoded data removed]",
      "text/plain": [
       "<Figure size 432x288 with 1 Axes>"
      ]
     },
     "metadata": {
      "needs_background": "light"
     },
     "output_type": "display_data"
    }
   ],
   "source": [
    "plt.boxplot(featCols['salaryusd'], showfliers = False)"
   ]
  },
  {
   "cell_type": "code",
   "execution_count": 19,
   "metadata": {},
   "outputs": [
    {
     "data": {
      "text/plain": [
       "count               6,478.00\n",
       "mean               92,860.62\n",
       "std                32,889.54\n",
       "min                30,000.00\n",
       "25%                68,000.00\n",
       "50%                91,000.00\n",
       "75%               115,000.00\n",
       "max               210,000.00\n",
       "Name: salaryusd, dtype: float64"
      ]
     },
     "execution_count": 19,
     "metadata": {},
     "output_type": "execute_result"
    }
   ],
   "source": [
    "featCols['salaryusd'].describe()"
   ]
  },
  {
   "cell_type": "markdown",
   "metadata": {},
   "source": [
    "Now the salary column is looking pretty good, and we have some useful information. But notice that this is for the countries that participated in the survey when we're only looking for certain roles in the U.S. This means it's now prudent to explore and clean the country and years of experience columns."
   ]
  },
  {
   "cell_type": "code",
   "execution_count": 20,
   "metadata": {},
   "outputs": [
    {
     "data": {
      "text/plain": [
       "United States     4439\n",
       "United Kingdom     646\n",
       "Canada             241\n",
       "Australia          182\n",
       "Germany             94\n",
       "                  ... \n",
       "Colombia             1\n",
       "Guatemala            1\n",
       "Jordan               1\n",
       "Pakistan             1\n",
       "El Salvador          1\n",
       "Name: country, Length: 69, dtype: int64"
      ]
     },
     "execution_count": 20,
     "metadata": {},
     "output_type": "execute_result"
    }
   ],
   "source": [
    "featCols.replace(r'\\\\n', '', regex = True)\n",
    "featCols['country'].value_counts()"
   ]
  },
  {
   "cell_type": "markdown",
   "metadata": {},
   "source": [
    "It's convenient here to isolate the data from the top 5 countries into their own frames which can be later used if need be. Additionally, they can be recombined into a frame consisting of only the top 5 responding countries to remove the low response countries and avoid clutter."
   ]
  },
  {
   "cell_type": "code",
   "execution_count": 21,
   "metadata": {},
   "outputs": [
    {
     "data": {
      "text/html": [
       "<div>\n",
       "<style scoped>\n",
       "    .dataframe tbody tr th:only-of-type {\n",
       "        vertical-align: middle;\n",
       "    }\n",
       "\n",
       "    .dataframe tbody tr th {\n",
       "        vertical-align: top;\n",
       "    }\n",
       "\n",
       "    .dataframe thead th {\n",
       "        text-align: right;\n",
       "    }\n",
       "</style>\n",
       "<table border=\"1\" class=\"dataframe\">\n",
       "  <thead>\n",
       "    <tr style=\"text-align: right;\">\n",
       "      <th></th>\n",
       "      <th>timestamp</th>\n",
       "      <th>salaryusd</th>\n",
       "      <th>country</th>\n",
       "      <th>jobtitle</th>\n",
       "      <th>yearswiththistypeofjob</th>\n",
       "      <th>education</th>\n",
       "    </tr>\n",
       "  </thead>\n",
       "  <tbody>\n",
       "    <tr>\n",
       "      <th>0</th>\n",
       "      <td>2017-01-05T05:10:20.451</td>\n",
       "      <td>200,000.00</td>\n",
       "      <td>United States</td>\n",
       "      <td>DBA</td>\n",
       "      <td>5</td>\n",
       "      <td>Masters</td>\n",
       "    </tr>\n",
       "    <tr>\n",
       "      <th>1</th>\n",
       "      <td>2017-01-05T07:22:44.428</td>\n",
       "      <td>137,500.00</td>\n",
       "      <td>United States</td>\n",
       "      <td>DBA</td>\n",
       "      <td>6</td>\n",
       "      <td>None (no degree completed)</td>\n",
       "    </tr>\n",
       "    <tr>\n",
       "      <th>2</th>\n",
       "      <td>2017-01-05T07:35:03.887</td>\n",
       "      <td>85,000.00</td>\n",
       "      <td>United States</td>\n",
       "      <td>DBA</td>\n",
       "      <td>2</td>\n",
       "      <td>Bachelors (4 years)</td>\n",
       "    </tr>\n",
       "    <tr>\n",
       "      <th>3</th>\n",
       "      <td>2017-01-05T07:36:32.463</td>\n",
       "      <td>96,000.00</td>\n",
       "      <td>United States</td>\n",
       "      <td>DBA</td>\n",
       "      <td>5</td>\n",
       "      <td>Masters</td>\n",
       "    </tr>\n",
       "    <tr>\n",
       "      <th>4</th>\n",
       "      <td>2017-01-05T07:36:55.861</td>\n",
       "      <td>66,000.00</td>\n",
       "      <td>United States</td>\n",
       "      <td>Developer: App code (C#, JS, etc)</td>\n",
       "      <td>10</td>\n",
       "      <td>Associates (2 years)</td>\n",
       "    </tr>\n",
       "    <tr>\n",
       "      <th>...</th>\n",
       "      <td>...</td>\n",
       "      <td>...</td>\n",
       "      <td>...</td>\n",
       "      <td>...</td>\n",
       "      <td>...</td>\n",
       "      <td>...</td>\n",
       "    </tr>\n",
       "    <tr>\n",
       "      <th>5597</th>\n",
       "      <td>2018-12-26T22:44:05.971</td>\n",
       "      <td>80,000.00</td>\n",
       "      <td>Germany</td>\n",
       "      <td>Developer: T-SQL</td>\n",
       "      <td>5</td>\n",
       "      <td>Associates (2 years)</td>\n",
       "    </tr>\n",
       "    <tr>\n",
       "      <th>5598</th>\n",
       "      <td>2019-01-01T15:16:24.283</td>\n",
       "      <td>86,000.00</td>\n",
       "      <td>Germany</td>\n",
       "      <td>Developer: App code (C#, JS, etc)</td>\n",
       "      <td>12</td>\n",
       "      <td>None (no degree completed)</td>\n",
       "    </tr>\n",
       "    <tr>\n",
       "      <th>5599</th>\n",
       "      <td>2019-01-02T01:31:46.644</td>\n",
       "      <td>63,000.00</td>\n",
       "      <td>Germany</td>\n",
       "      <td>DBA (Development Focus - tunes queries, indexe...</td>\n",
       "      <td>5</td>\n",
       "      <td>None (no degree completed)</td>\n",
       "    </tr>\n",
       "    <tr>\n",
       "      <th>5600</th>\n",
       "      <td>2019-01-03T01:03:42.318</td>\n",
       "      <td>96,700.00</td>\n",
       "      <td>Germany</td>\n",
       "      <td>DBA (General - splits time evenly between writ...</td>\n",
       "      <td>12</td>\n",
       "      <td>Masters</td>\n",
       "    </tr>\n",
       "    <tr>\n",
       "      <th>5601</th>\n",
       "      <td>2019-01-03T05:10:19.094</td>\n",
       "      <td>66,000.00</td>\n",
       "      <td>Germany</td>\n",
       "      <td>DBA (General - splits time evenly between writ...</td>\n",
       "      <td>10</td>\n",
       "      <td>Masters</td>\n",
       "    </tr>\n",
       "  </tbody>\n",
       "</table>\n",
       "<p>5602 rows × 6 columns</p>\n",
       "</div>"
      ],
      "text/plain": [
       "                    timestamp            salaryusd        country  \\\n",
       "0     2017-01-05T05:10:20.451           200,000.00  United States   \n",
       "1     2017-01-05T07:22:44.428           137,500.00  United States   \n",
       "2     2017-01-05T07:35:03.887            85,000.00  United States   \n",
       "3     2017-01-05T07:36:32.463            96,000.00  United States   \n",
       "4     2017-01-05T07:36:55.861            66,000.00  United States   \n",
       "...                       ...                  ...            ...   \n",
       "5597  2018-12-26T22:44:05.971            80,000.00        Germany   \n",
       "5598  2019-01-01T15:16:24.283            86,000.00        Germany   \n",
       "5599  2019-01-02T01:31:46.644            63,000.00        Germany   \n",
       "5600  2019-01-03T01:03:42.318            96,700.00        Germany   \n",
       "5601  2019-01-03T05:10:19.094            66,000.00        Germany   \n",
       "\n",
       "                                               jobtitle  \\\n",
       "0                                                   DBA   \n",
       "1                                                   DBA   \n",
       "2                                                   DBA   \n",
       "3                                                   DBA   \n",
       "4                     Developer: App code (C#, JS, etc)   \n",
       "...                                                 ...   \n",
       "5597                                   Developer: T-SQL   \n",
       "5598                  Developer: App code (C#, JS, etc)   \n",
       "5599  DBA (Development Focus - tunes queries, indexe...   \n",
       "5600  DBA (General - splits time evenly between writ...   \n",
       "5601  DBA (General - splits time evenly between writ...   \n",
       "\n",
       "      yearswiththistypeofjob                   education  \n",
       "0                          5                     Masters  \n",
       "1                          6  None (no degree completed)  \n",
       "2                          2         Bachelors (4 years)  \n",
       "3                          5                     Masters  \n",
       "4                         10        Associates (2 years)  \n",
       "...                      ...                         ...  \n",
       "5597                       5        Associates (2 years)  \n",
       "5598                      12  None (no degree completed)  \n",
       "5599                       5  None (no degree completed)  \n",
       "5600                      12                     Masters  \n",
       "5601                      10                     Masters  \n",
       "\n",
       "[5602 rows x 6 columns]"
      ]
     },
     "execution_count": 21,
     "metadata": {},
     "output_type": "execute_result"
    }
   ],
   "source": [
    "US = featCols.loc[featCols['country'] == 'United States']\n",
    "UK = featCols.loc[featCols['country'] == 'United Kingdom']\n",
    "CAN = featCols.loc[featCols['country'] == 'Canada']\n",
    "AUS = featCols.loc[featCols['country'] == 'Australia']\n",
    "GER = featCols.loc[featCols['country'] == 'Germany']\n",
    "\n",
    "top5Countries = US.merge(UK.merge(CAN.merge(AUS.merge(GER, how = 'outer'), how = 'outer'), how = 'outer'), how = 'outer')\n",
    "top5Countries"
   ]
  },
  {
   "cell_type": "code",
   "execution_count": 22,
   "metadata": {},
   "outputs": [
    {
     "name": "stdout",
     "output_type": "stream",
     "text": [
      "US:Blue\n",
      "UK:Orange\n",
      "CAN:Red\n",
      "AUS:Green\n",
      "GER:Purple\n"
     ]
    },
    {
     "data": {
      "image/png": "[encoded data removed]",
      "text/plain": [
       "<Figure size 432x288 with 1 Axes>"
      ]
     },
     "metadata": {
      "needs_background": "light"
     },
     "output_type": "display_data"
    }
   ],
   "source": [
    "US.salaryusd.hist(bins = 15)\n",
    "UK.salaryusd.hist(bins = 15)\n",
    "CAN.salaryusd.hist(bins = 15)\n",
    "AUS.salaryusd.hist(bins = 15)\n",
    "GER.salaryusd.hist(bins = 15)\n",
    "print('US:Blue\\nUK:Orange\\nCAN:Red\\nAUS:Green\\nGER:Purple')"
   ]
  },
  {
   "cell_type": "markdown",
   "metadata": {},
   "source": [
    "Clearly the American data professionals are making more money, but a dollar in the United States may not buy the same things a dollar in say Germany and vice versa. That being said, it's unlikely that a dollar in the US buys double what it would in the UK. This implies that the US pays considerably more on average than the other top 5 responding countries in the survey. Since the quantity of data is skewed heavily towards the US any further analysis should focus on it using the US frame."
   ]
  },
  {
   "cell_type": "code",
   "execution_count": 23,
   "metadata": {},
   "outputs": [
    {
     "data": {
      "text/plain": [
       "count               4,439.00\n",
       "mean              103,639.47\n",
       "std                29,062.98\n",
       "min                30,000.00\n",
       "25%                84,000.00\n",
       "50%               102,000.00\n",
       "75%               121,000.00\n",
       "max               210,000.00\n",
       "Name: salaryusd, dtype: float64"
      ]
     },
     "execution_count": 23,
     "metadata": {},
     "output_type": "execute_result"
    }
   ],
   "source": [
    "US.salaryusd.describe()"
   ]
  },
  {
   "cell_type": "code",
   "execution_count": 24,
   "metadata": {},
   "outputs": [
    {
     "data": {
      "text/plain": [
       "<matplotlib.axes._subplots.AxesSubplot at 0x175dec24460>"
      ]
     },
     "execution_count": 24,
     "metadata": {},
     "output_type": "execute_result"
    },
    {
     "data": {
      "image/png": "[encoded data removed]",
      "text/plain": [
       "<Figure size 432x288 with 1 Axes>"
      ]
     },
     "metadata": {
      "needs_background": "light"
     },
     "output_type": "display_data"
    }
   ],
   "source": [
    "US.sample(500).plot(kind = 'scatter', x = 'salaryusd', y = 'education', color = 'g')"
   ]
  },
  {
   "cell_type": "code",
   "execution_count": 25,
   "metadata": {},
   "outputs": [
    {
     "data": {
      "text/plain": [
       "Bachelors (4 years)           2522\n",
       "Masters                        744\n",
       "None (no degree completed)     659\n",
       "Associates (2 years)           491\n",
       "Doctorate/PhD                   23\n",
       "Name: education, dtype: int64"
      ]
     },
     "execution_count": 25,
     "metadata": {},
     "output_type": "execute_result"
    }
   ],
   "source": [
    "US.education.value_counts()"
   ]
  },
  {
   "cell_type": "markdown",
   "metadata": {},
   "source": [
    "Interestingly, education does not seem to be a huge factor in the salaries reported in the survey. Perhaps years of relevant experience plays a more important role? "
   ]
  },
  {
   "cell_type": "code",
   "execution_count": 26,
   "metadata": {},
   "outputs": [
    {
     "data": {
      "text/plain": [
       "<matplotlib.axes._subplots.AxesSubplot at 0x175decb4dc0>"
      ]
     },
     "execution_count": 26,
     "metadata": {},
     "output_type": "execute_result"
    },
    {
     "data": {
      "image/png": "[encoded data removed]",
      "text/plain": [
       "<Figure size 432x288 with 1 Axes>"
      ]
     },
     "metadata": {
      "needs_background": "light"
     },
     "output_type": "display_data"
    }
   ],
   "source": [
    "US.sample(500).plot(kind = 'scatter', x = 'yearswiththistypeofjob', y = 'salaryusd', color = 'g')"
   ]
  },
  {
   "cell_type": "markdown",
   "metadata": {},
   "source": [
    "A decent positive correlation is apparent, but isn't strong enough to explain the data. A reasonable hypothesis is that location inside the US plays some role. For example, a data scientist in California probably makes a lot more than one in Iowa. Another area of interest here is whether different data professionals make different salaries. Perhaps data analysts,data scientists and DBA's have some contrast?"
   ]
  },
  {
   "cell_type": "code",
   "execution_count": 27,
   "metadata": {},
   "outputs": [
    {
     "data": {
      "text/plain": [
       "<matplotlib.axes._subplots.AxesSubplot at 0x175ded1cdc0>"
      ]
     },
     "execution_count": 27,
     "metadata": {},
     "output_type": "execute_result"
    },
    {
     "data": {
      "image/png": "[encoded data removed]",
      "text/plain": [
       "<Figure size 432x288 with 1 Axes>"
      ]
     },
     "metadata": {
      "needs_background": "light"
     },
     "output_type": "display_data"
    }
   ],
   "source": [
    "US.loc[featCols['jobtitle'] == 'Data Scientist'].salaryusd.hist(color = 'orange')"
   ]
  },
  {
   "cell_type": "code",
   "execution_count": 28,
   "metadata": {},
   "outputs": [
    {
     "data": {
      "text/plain": [
       "<matplotlib.axes._subplots.AxesSubplot at 0x175ded8cdc0>"
      ]
     },
     "execution_count": 28,
     "metadata": {},
     "output_type": "execute_result"
    },
    {
     "data": {
      "image/png": "[encoded data removed]",
      "text/plain": [
       "<Figure size 432x288 with 1 Axes>"
      ]
     },
     "metadata": {
      "needs_background": "light"
     },
     "output_type": "display_data"
    }
   ],
   "source": [
    "US.loc[featCols['jobtitle'] == 'Analyst'].salaryusd.hist(color = 'orange')"
   ]
  },
  {
   "cell_type": "code",
   "execution_count": 29,
   "metadata": {},
   "outputs": [
    {
     "data": {
      "text/plain": [
       "<matplotlib.axes._subplots.AxesSubplot at 0x175dedff160>"
      ]
     },
     "execution_count": 29,
     "metadata": {},
     "output_type": "execute_result"
    },
    {
     "data": {
      "image/png": "[encoded data removed]",
      "text/plain": [
       "<Figure size 432x288 with 1 Axes>"
      ]
     },
     "metadata": {
      "needs_background": "light"
     },
     "output_type": "display_data"
    }
   ],
   "source": [
    "US.loc[featCols['jobtitle'] == 'DBA'].salaryusd.hist(color = 'orange')"
   ]
  },
  {
   "cell_type": "code",
   "execution_count": 30,
   "metadata": {},
   "outputs": [
    {
     "name": "stdout",
     "output_type": "stream",
     "text": [
      "Data Scientist\n",
      " count                  20.00\n",
      "mean              107,799.65\n",
      "std                39,538.90\n",
      "min                45,000.00\n",
      "25%                71,000.00\n",
      "50%               116,000.00\n",
      "75%               136,750.00\n",
      "max               175,000.00\n",
      "Name: salaryusd, dtype: float64 \n",
      "\n",
      "Data Analyst\n",
      " count                 246.00\n",
      "mean               78,970.36\n",
      "std                21,665.86\n",
      "min                35,800.00\n",
      "25%                64,000.00\n",
      "50%                75,000.00\n",
      "75%                93,117.00\n",
      "max               154,000.00\n",
      "Name: salaryusd, dtype: float64 \n",
      "\n",
      "DBA\n",
      " count                 970.00\n",
      "mean              102,749.20\n",
      "std                25,660.56\n",
      "min                35,000.00\n",
      "25%                86,000.00\n",
      "50%               102,000.00\n",
      "75%               120,000.00\n",
      "max               210,000.00\n",
      "Name: salaryusd, dtype: float64\n"
     ]
    }
   ],
   "source": [
    "print(\"Data Scientist\\n\",US.loc[featCols['jobtitle'] == 'Data Scientist'].salaryusd.describe(), \n",
    "      \"\\n\\nData Analyst\\n\", US.loc[featCols['jobtitle'] == 'Analyst'].salaryusd.describe(),\n",
    "      \"\\n\\nDBA\\n\", US.loc[featCols['jobtitle'] == 'DBA'].salaryusd.describe())"
   ]
  },
  {
   "cell_type": "markdown",
   "metadata": {},
   "source": [
    "Clearly data scientists and DBA's are doing better than data analysts, but data scientists have quite a lot of variation compared to analysts and DBA's. Also of note is the particularly low quantity of data scientists compared to the other two roles, meaning it's more likely that the low sample size here is not representative of data scientists in the US in general. "
   ]
  },
  {
   "cell_type": "markdown",
   "metadata": {},
   "source": [
    "The data used in this project was obtain from: data.world/finance/data-professional-salary-survey"
   ]
  },
  {
   "cell_type": "code",
   "execution_count": null,
   "metadata": {},
   "outputs": [],
   "source": []
  }
 ],
 "metadata": {
  "kernelspec": {
   "display_name": "Python 3",
   "language": "python",
   "name": "python3"
  },
  "language_info": {
   "codemirror_mode": {
    "name": "ipython",
    "version": 3
   },
   "file_extension": ".py",
   "mimetype": "text/x-python",
   "name": "python",
   "nbconvert_exporter": "python",
   "pygments_lexer": "ipython3",
   "version": "3.8.3"
  }
 },
 "nbformat": 4,
 "nbformat_minor": 4
}
